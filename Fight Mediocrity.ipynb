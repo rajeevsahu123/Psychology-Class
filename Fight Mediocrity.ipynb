{
 "cells": [
  {
   "cell_type": "markdown",
   "metadata": {},
   "source": [
    "# Self Control\n",
    "\n",
    "* [8 Ways to Combat Decision Fatigue](http://www.huffingtonpost.com/lori-rochino/8-ways-to-combat-decision-fatigue_b_6794022.html)\n",
    "* [The Science of Self-Control: 6 Ways to Improve Your Willpower Today](https://blog.bufferapp.com/willpower-and-the-brain-why-its-so-hard-to-avoid-temptation)\n",
    "* [How to Identify Core Beliefs](https://www.pathwaytohappiness.com/writings_core_beliefs.htm)\n",
    "* [WHAT ARE YOUR CORE BELIEFS AND WHY ARE THEY SO IMPORTANT TO UNCOVER?](https://lonerwolf.com/core-beliefs/)\n",
    "* [The Role Your Subconscious Mind Plays In Your Everyday Life](https://www.briantracy.com/blog/personal-success/subconscious-mind-everyday-life/)\n",
    "* [Why You Haven’t Achieved Your Goal Yet](https://www.briantracy.com/blog/personal-success/heres-why-you-havent-achieved-your-goal-yet/)\n",
    "* [The Truth About Frogs](https://www.briantracy.com/blog/time-management/the-truth-about-frogs/)\n",
    "* [Law of Attraction](http://www.thelawofattraction.com/)\n",
    "* [SWOT Analysis](https://www.mindtools.com/pages/article/newTMC_05.htm)\n",
    "* [SWOT Example (Strengths, Weaknesses, Opportunities, Threats)](https://www.thebalance.com/swot-example-strengths-weaknesses-opportunities-threats-2947985)\n",
    "* [The_7_Habits_of_Highly_Effective_People by Stephen Covey](https://en.wikipedia.org/wiki/The_7_Habits_of_Highly_Effective_People)\n",
    "* [THE SIX PILLARS OF SELF-ESTEEM](http://www.tedxvienna.at/blog/turning-knowledge-into-wisdom-with-a-technique-from-the-six-pillars-of-self-esteem/)\n",
    "* [Fight Mediocrity (You Tube Videos)](https://www.youtube.com/user/phuckmediocrity/videos)"
   ]
  },
  {
   "cell_type": "code",
   "execution_count": null,
   "metadata": {
    "collapsed": true
   },
   "outputs": [],
   "source": []
  }
 ],
 "metadata": {
  "kernelspec": {
   "display_name": "Python 2",
   "language": "python",
   "name": "python2"
  },
  "language_info": {
   "codemirror_mode": {
    "name": "ipython",
    "version": 2
   },
   "file_extension": ".py",
   "mimetype": "text/x-python",
   "name": "python",
   "nbconvert_exporter": "python",
   "pygments_lexer": "ipython2",
   "version": "2.7.13"
  }
 },
 "nbformat": 4,
 "nbformat_minor": 2
}
